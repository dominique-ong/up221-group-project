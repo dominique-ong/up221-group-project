{
 "cells": [
  {
   "cell_type": "markdown",
   "id": "e9793eed",
   "metadata": {},
   "source": [
    "### Import libraries and data"
   ]
  },
  {
   "cell_type": "code",
   "execution_count": 36,
   "id": "c8d328f5",
   "metadata": {},
   "outputs": [],
   "source": [
    "# Import libraries\n",
    "import os\n",
    "import numpy as np\n",
    "import matplotlib.pyplot as plt\n",
    "import matplotlib.lines as mlines\n",
    "from matplotlib.colors import ListedColormap\n",
    "import pandas as pd\n",
    "import geopandas as gpd\n",
    "from shapely.geometry import Polygon, LineString, Point\n",
    "import plotly.express as px\n",
    "import contextily as ctx\n",
    "import plotly.io as pio\n",
    "import statistics\n",
    "import plotly.graph_objects as go"
   ]
  },
  {
   "cell_type": "code",
   "execution_count": 2,
   "id": "c847646e",
   "metadata": {},
   "outputs": [
    {
     "name": "stdout",
     "output_type": "stream",
     "text": [
      "Current Working Directory is:  /Users/dominiqueong/Documents/CCED\n"
     ]
    }
   ],
   "source": [
    "# Set working dir & get data\n",
    "cwd = os.getcwd()\n",
    "print('Current Working Directory is: ', cwd)"
   ]
  },
  {
   "cell_type": "code",
   "execution_count": 3,
   "id": "0793175e",
   "metadata": {},
   "outputs": [],
   "source": [
    "# Import block group geojson file from LA County GIS Hub\n",
    "# Read in 2020 block group geojson file\n",
    "blockgroups_path = os.path.join(\"GeoJSON\",\"Census_Block_Groups_2020.geojson\")\n",
    "blockgroups = gpd.read_file(blockgroups_path,dtype={'BG20':str})\n",
    "# Read in Chinatown neighborhood boundary geojson file\n",
    "neighborhood_path = os.path.join(\"LA_Times_Neighborhood_Boundaries\",\"Chinatown_LA_Times_Neighborhood_Boundaries.geojson\")\n",
    "neighborhood = gpd.read_file(neighborhood_path)"
   ]
  },
  {
   "cell_type": "code",
   "execution_count": 4,
   "id": "7c357bc0",
   "metadata": {},
   "outputs": [
    {
     "name": "stdout",
     "output_type": "stream",
     "text": [
      "<class 'pandas.core.frame.DataFrame'>\n",
      "RangeIndex: 6425 entries, 0 to 6424\n",
      "Columns: 134 entries, Geo_FIPS to SE_A18007_007\n",
      "dtypes: float64(83), int64(43), object(8)\n",
      "memory usage: 6.6+ MB\n",
      "<class 'pandas.core.frame.DataFrame'>\n",
      "RangeIndex: 6425 entries, 0 to 6424\n",
      "Columns: 193 entries, Geo_FIPS to SE_A10039B_023\n",
      "dtypes: float64(97), int64(88), object(8)\n",
      "memory usage: 9.5+ MB\n",
      "<class 'pandas.core.frame.DataFrame'>\n",
      "RangeIndex: 6591 entries, 0 to 6590\n",
      "Columns: 177 entries, Geo_FILEID to SE_A10047_004\n",
      "dtypes: float64(114), int64(55), object(8)\n",
      "memory usage: 8.9+ MB\n"
     ]
    }
   ],
   "source": [
    "# Import Social Explorer ACS 5-Year Estimates CSVs for 2016 and 2021\n",
    "# Join components of relative file path to output file location\n",
    "acs_2011_path = os.path.join(\"Social Explorer\",\"ACS 2011 5-Year Estimates_R13294525_SL150.csv\")\n",
    "acs_2016_path = os.path.join(\"Social Explorer\",\"ACS 2016 5-Year Estimates_R13293532_SL150.csv\")\n",
    "acs_2021_path = os.path.join(\"Social Explorer\",\"ACS 2021 5-Year Estimates_R13293531_SL150.csv\")\n",
    "# Read ACS 2016 5-Year Estimates CSV, save data frame\n",
    "acs_2011 = pd.read_csv(acs_2011_path,dtype={'Geo_FIPS':str,'Geo_TRACT':str,'Geo_BLKGRP':str})\n",
    "acs_2016 = pd.read_csv(acs_2016_path,dtype={'Geo_FIPS':str,'Geo_TRACT':str,'Geo_BLKGRP':str})\n",
    "acs_2021 = pd.read_csv(acs_2021_path,dtype={'Geo_FIPS':str,'Geo_TRACT':str,'Geo_BLKGRP':str})\n",
    "# Get column names and data types for each data frame\n",
    "acs_2011.info()\n",
    "acs_2016.info()\n",
    "acs_2021.info()"
   ]
  },
  {
   "cell_type": "markdown",
   "id": "db0174e7",
   "metadata": {},
   "source": [
    "### Trim and rename columns in ACS 5-Year Estimates"
   ]
  },
  {
   "cell_type": "code",
   "execution_count": 5,
   "id": "8e691bf2",
   "metadata": {},
   "outputs": [],
   "source": [
    "# Define columns to keep from ACS CSVs, using existing column names\n",
    "# SE_A18009_001 = Median Gross Rent, Renter-occupied housing units paying cash rent\n",
    "# SE_B18002_001 = Renter-Occupied Housing Units\n",
    "# SE_B18002_002 = Residents Paying More Than 30% of Income on Rent, Renter-occupied housing units\n",
    "# SE_B18002_003 = Residents Paying at least 50% of Income on Rent, Renter-occupied housing units\n",
    "# SE_A18001_001 = Renter-Occupied Housing Units with Cash Rent\n",
    "# SE_A18001_002 = Gross Rent Less than $300, Renter-occupied housing units with cash rent\n",
    "# SE_A18001_003 = Gross Rent $300 to $599, Renter-occupied housing units with cash rent\n",
    "# SE_A18001_004 = Gross Rent $600 to $799, Renter-occupied housing units with cash rent\n",
    "# SE_A18001_005 = Gross Rent $800 to $999, Renter-occupied housing units with cash rent\n",
    "# SE_A18001_006 = Gross Rent $1,000 to $1,249, Renter-occupied housing units with cash rent\n",
    "# SE_A18001_007 = Gross Rent $1,250 to $1,499, Renter-occupied housing units with cash rent\n",
    "# SE_A18001_008 = Gross Rent $1,500 to $1,999, Renter-occupied housing units with cash rent\n",
    "# SE_A18001_009 = Gross Rent $2,000 or More, Renter-occupied housing units with cash rent\n",
    "columns_to_keep = ['Geo_FIPS','Geo_TRACT','Geo_BLKGRP','SE_A18009_001','SE_A18001_001','SE_A18001_002','SE_A18001_003','SE_A18001_004','SE_A18001_005','SE_A18001_006','SE_A18001_007','SE_A18001_008','SE_A18001_009']"
   ]
  },
  {
   "cell_type": "code",
   "execution_count": 6,
   "id": "31e45688",
   "metadata": {},
   "outputs": [],
   "source": [
    "# Select desired columns from 2011, 2016, and 2021 ACS 5-Year Estimates, save as new dataframes\n",
    "acs_2011_trim = acs_2011[columns_to_keep].copy()\n",
    "acs_2016_trim = acs_2016[columns_to_keep].copy()\n",
    "acs_2021_trim = acs_2021[columns_to_keep].copy()\n",
    "# Rename columns of 2011, 2016, and 2021 ACS 5-Year Estimates\n",
    "acs_2011_trim.columns = ['Geo_FIPS','Geo_TRACT','Geo_BLKGRP','Median Gross Rent','Renter-Occupied Housing Units with Cash Rent','Gross Rent Less than $300','Gross Rent $300 to $599','Gross Rent $600 to $799','Gross Rent $800 to $999','Gross Rent $1,000 to $1,249','Gross Rent $1,250 to $1,499','Gross Rent $1,500 to $1,999','Gross Rent $2,000 or More']\n",
    "acs_2016_trim.columns = ['Geo_FIPS','Geo_TRACT','Geo_BLKGRP','Median Gross Rent','Renter-Occupied Housing Units with Cash Rent','Gross Rent Less than $300','Gross Rent $300 to $599','Gross Rent $600 to $799','Gross Rent $800 to $999','Gross Rent $1,000 to $1,249','Gross Rent $1,250 to $1,499','Gross Rent $1,500 to $1,999','Gross Rent $2,000 or More']\n",
    "acs_2021_trim.columns = ['Geo_FIPS','Geo_TRACT','Geo_BLKGRP','Median Gross Rent','Renter-Occupied Housing Units with Cash Rent','Gross Rent Less than $300','Gross Rent $300 to $599','Gross Rent $600 to $799','Gross Rent $800 to $999','Gross Rent $1,000 to $1,249','Gross Rent $1,250 to $1,499','Gross Rent $1,500 to $1,999','Gross Rent $2,000 or More']"
   ]
  },
  {
   "cell_type": "markdown",
   "id": "933f1ea0",
   "metadata": {},
   "source": [
    "### Prepare ACS 5-Year Estimates for attribute join (merge)"
   ]
  },
  {
   "cell_type": "markdown",
   "id": "86b9ef37",
   "metadata": {},
   "source": [
    "#### Merge each ACS 5-Year Estimates dataframe to block group geojson file, joining by FIPS column attribute"
   ]
  },
  {
   "cell_type": "code",
   "execution_count": 7,
   "id": "e30ffa5d",
   "metadata": {},
   "outputs": [],
   "source": [
    "# Create a FIPS column by appending block group number to state code 06/CA + 037/LA County\n",
    "blockgroups['FIPS'] = '06' + '037' + blockgroups['BG20']\n",
    "acs_2011_trim['FIPS'] = '06' + '037' + acs_2011_trim['Geo_TRACT'] + acs_2011_trim['Geo_BLKGRP']\n",
    "acs_2016_trim['FIPS'] = '06' + '037' + acs_2016_trim['Geo_TRACT'] + acs_2016_trim['Geo_BLKGRP']\n",
    "acs_2021_trim['FIPS'] = '06' + '037' + acs_2021_trim['Geo_TRACT'] + acs_2021_trim['Geo_BLKGRP']"
   ]
  },
  {
   "cell_type": "code",
   "execution_count": 8,
   "id": "e0beded3",
   "metadata": {},
   "outputs": [],
   "source": [
    "# Merge each dataframe to block group geojson\n",
    "acs_2011_rent_blockgroups = blockgroups.merge(acs_2011_trim,on='FIPS')\n",
    "acs_2016_rent_blockgroups = blockgroups.merge(acs_2016_trim,on='FIPS')\n",
    "acs_2021_rent_blockgroups = blockgroups.merge(acs_2021_trim,on='FIPS')"
   ]
  },
  {
   "cell_type": "markdown",
   "id": "f911f073",
   "metadata": {},
   "source": [
    "### Clip block groups to Chinatown neighborhood boundary"
   ]
  },
  {
   "cell_type": "code",
   "execution_count": 9,
   "id": "85bc1e0b",
   "metadata": {},
   "outputs": [],
   "source": [
    "# Clip each year of merged block groups to Chinatown neighborhood boundary\n",
    "acs_2011_rent_blockgroups_clip = gpd.clip(acs_2011_rent_blockgroups,neighborhood)\n",
    "acs_2016_rent_blockgroups_clip = gpd.clip(acs_2016_rent_blockgroups,neighborhood)\n",
    "acs_2021_rent_blockgroups_clip = gpd.clip(acs_2021_rent_blockgroups,neighborhood)"
   ]
  },
  {
   "cell_type": "markdown",
   "id": "8cafe6ec",
   "metadata": {},
   "source": [
    "### Calculate number of renter-occupied housing units in each gross rent category for 2016 and 2021"
   ]
  },
  {
   "cell_type": "markdown",
   "id": "202b0055",
   "metadata": {},
   "source": [
    "#### Create a dataframe for gross rent categories"
   ]
  },
  {
   "cell_type": "code",
   "execution_count": 10,
   "id": "4a26ac69",
   "metadata": {},
   "outputs": [
    {
     "name": "stdout",
     "output_type": "stream",
     "text": [
      "<class 'pandas.core.frame.DataFrame'>\n",
      "Int64Index: 24 entries, 0 to 7\n",
      "Data columns (total 3 columns):\n",
      " #   Column    Non-Null Count  Dtype \n",
      "---  ------    --------------  ----- \n",
      " 0   category  24 non-null     object\n",
      " 1   sum       24 non-null     int64 \n",
      " 2   year      24 non-null     object\n",
      "dtypes: int64(1), object(2)\n",
      "memory usage: 768.0+ bytes\n"
     ]
    }
   ],
   "source": [
    "# Create a dataframe for gross rent categories\n",
    "# Less than $300, $300 to $599, $600 to $799, $800 to $999, $1,000 to $1,249, $1,250 to $1,499, $1,500 to $1,999, $2,000 or More\n",
    "# Define columns with gross rent categories to keep\n",
    "rent_cat_columns_to_keep = ['Gross Rent Less than $300','Gross Rent $300 to $599','Gross Rent $600 to $799','Gross Rent $800 to $999','Gross Rent $1,000 to $1,249','Gross Rent $1,250 to $1,499','Gross Rent $1,500 to $1,999','Gross Rent $2,000 or More']\n",
    "# Calculate sum of all values in each gross rent category column for each year\n",
    "# 2011\n",
    "acs_2011_rent_cat_sum_chinatown = acs_2011_rent_blockgroups_clip[rent_cat_columns_to_keep].sum(axis=0)\n",
    "acs_2011_rent_cat_sum_chinatown = pd.DataFrame(acs_2011_rent_cat_sum_chinatown).reset_index()\n",
    "acs_2011_rent_cat_sum_chinatown['year'] = str('2011-2015')\n",
    "acs_2011_rent_cat_sum_chinatown.columns = ['category', 'sum','year']\n",
    "# 2016\n",
    "acs_2016_rent_cat_sum_chinatown = acs_2016_rent_blockgroups_clip[rent_cat_columns_to_keep].sum(axis=0)\n",
    "acs_2016_rent_cat_sum_chinatown = pd.DataFrame(acs_2016_rent_cat_sum_chinatown).reset_index()\n",
    "acs_2016_rent_cat_sum_chinatown['year'] = str('2012-2016')\n",
    "acs_2016_rent_cat_sum_chinatown.columns = ['category', 'sum','year']\n",
    "# 2021\n",
    "acs_2021_rent_cat_sum_chinatown = acs_2021_rent_blockgroups_clip[rent_cat_columns_to_keep].sum(axis=0)\n",
    "acs_2021_rent_cat_sum_chinatown = pd.DataFrame(acs_2021_rent_cat_sum_chinatown).reset_index()\n",
    "acs_2021_rent_cat_sum_chinatown['year'] = str('2017-2021')\n",
    "acs_2021_rent_cat_sum_chinatown.columns = ['category','sum','year']\n",
    "# Combine multiple data frames into one data frame\n",
    "cat_label = ['Less than $300','$300 to $599','$600 to $799','$800 to $999','$1,000 to $1,249','$1,250 to $1,499','$1,500 to $1,999','$2,000 or more']\n",
    "acs_2011_2021_rent_cat_sum_chinatown = pd.concat([acs_2011_rent_cat_sum_chinatown,acs_2016_rent_cat_sum_chinatown,acs_2021_rent_cat_sum_chinatown])\n",
    "acs_2011_2021_rent_cat_sum_chinatown.info()\n",
    "    "
   ]
  },
  {
   "cell_type": "markdown",
   "id": "d83d0c65",
   "metadata": {},
   "source": [
    "#### Create bar chart to show distribution of renter-occupied units per gross rent categories, for each year"
   ]
  },
  {
   "cell_type": "code",
   "execution_count": 51,
   "id": "80aa94a2",
   "metadata": {
    "scrolled": false
   },
   "outputs": [
    {
     "data": {
      "application/vnd.plotly.v1+json": {
       "config": {
        "plotlyServerURL": "https://plot.ly"
       },
       "data": [
        {
         "alignmentgroup": "True",
         "hovertemplate": "category=%{text}<br>year=%{x}<br>sum=%{y}<extra></extra>",
         "legendgroup": "Gross Rent Less than $300",
         "marker": {
          "color": "#636efa",
          "pattern": {
           "shape": ""
          }
         },
         "name": "Gross Rent Less than $300",
         "offsetgroup": "Gross Rent Less than $300",
         "orientation": "v",
         "showlegend": true,
         "text": [
          "Gross Rent Less than $300",
          "Gross Rent Less than $300",
          "Gross Rent Less than $300"
         ],
         "textposition": "auto",
         "type": "bar",
         "x": [
          "2011-2015",
          "2012-2016",
          "2017-2021"
         ],
         "xaxis": "x",
         "y": [
          570,
          294,
          274
         ],
         "yaxis": "y"
        },
        {
         "alignmentgroup": "True",
         "hovertemplate": "category=%{text}<br>year=%{x}<br>sum=%{y}<extra></extra>",
         "legendgroup": "Gross Rent $300 to $599",
         "marker": {
          "color": "#EF553B",
          "pattern": {
           "shape": ""
          }
         },
         "name": "Gross Rent $300 to $599",
         "offsetgroup": "Gross Rent $300 to $599",
         "orientation": "v",
         "showlegend": true,
         "text": [
          "Gross Rent $300 to $599",
          "Gross Rent $300 to $599",
          "Gross Rent $300 to $599"
         ],
         "textposition": "auto",
         "type": "bar",
         "x": [
          "2011-2015",
          "2012-2016",
          "2017-2021"
         ],
         "xaxis": "x",
         "y": [
          882,
          760,
          738
         ],
         "yaxis": "y"
        },
        {
         "alignmentgroup": "True",
         "hovertemplate": "category=%{text}<br>year=%{x}<br>sum=%{y}<extra></extra>",
         "legendgroup": "Gross Rent $600 to $799",
         "marker": {
          "color": "#00cc96",
          "pattern": {
           "shape": ""
          }
         },
         "name": "Gross Rent $600 to $799",
         "offsetgroup": "Gross Rent $600 to $799",
         "orientation": "v",
         "showlegend": true,
         "text": [
          "Gross Rent $600 to $799",
          "Gross Rent $600 to $799",
          "Gross Rent $600 to $799"
         ],
         "textposition": "auto",
         "type": "bar",
         "x": [
          "2011-2015",
          "2012-2016",
          "2017-2021"
         ],
         "xaxis": "x",
         "y": [
          879,
          697,
          272
         ],
         "yaxis": "y"
        },
        {
         "alignmentgroup": "True",
         "hovertemplate": "category=%{text}<br>year=%{x}<br>sum=%{y}<extra></extra>",
         "legendgroup": "Gross Rent $800 to $999",
         "marker": {
          "color": "#ab63fa",
          "pattern": {
           "shape": ""
          }
         },
         "name": "Gross Rent $800 to $999",
         "offsetgroup": "Gross Rent $800 to $999",
         "orientation": "v",
         "showlegend": true,
         "text": [
          "Gross Rent $800 to $999",
          "Gross Rent $800 to $999",
          "Gross Rent $800 to $999"
         ],
         "textposition": "auto",
         "type": "bar",
         "x": [
          "2011-2015",
          "2012-2016",
          "2017-2021"
         ],
         "xaxis": "x",
         "y": [
          1077,
          729,
          771
         ],
         "yaxis": "y"
        },
        {
         "alignmentgroup": "True",
         "hovertemplate": "category=%{text}<br>year=%{x}<br>sum=%{y}<extra></extra>",
         "legendgroup": "Gross Rent $1,000 to $1,249",
         "marker": {
          "color": "#FFA15A",
          "pattern": {
           "shape": ""
          }
         },
         "name": "Gross Rent $1,000 to $1,249",
         "offsetgroup": "Gross Rent $1,000 to $1,249",
         "orientation": "v",
         "showlegend": true,
         "text": [
          "Gross Rent $1,000 to $1,249",
          "Gross Rent $1,000 to $1,249",
          "Gross Rent $1,000 to $1,249"
         ],
         "textposition": "auto",
         "type": "bar",
         "x": [
          "2011-2015",
          "2012-2016",
          "2017-2021"
         ],
         "xaxis": "x",
         "y": [
          621,
          809,
          737
         ],
         "yaxis": "y"
        },
        {
         "alignmentgroup": "True",
         "hovertemplate": "category=%{text}<br>year=%{x}<br>sum=%{y}<extra></extra>",
         "legendgroup": "Gross Rent $1,250 to $1,499",
         "marker": {
          "color": "#19d3f3",
          "pattern": {
           "shape": ""
          }
         },
         "name": "Gross Rent $1,250 to $1,499",
         "offsetgroup": "Gross Rent $1,250 to $1,499",
         "orientation": "v",
         "showlegend": true,
         "text": [
          "Gross Rent $1,250 to $1,499",
          "Gross Rent $1,250 to $1,499",
          "Gross Rent $1,250 to $1,499"
         ],
         "textposition": "auto",
         "type": "bar",
         "x": [
          "2011-2015",
          "2012-2016",
          "2017-2021"
         ],
         "xaxis": "x",
         "y": [
          367,
          637,
          753
         ],
         "yaxis": "y"
        },
        {
         "alignmentgroup": "True",
         "hovertemplate": "category=%{text}<br>year=%{x}<br>sum=%{y}<extra></extra>",
         "legendgroup": "Gross Rent $1,500 to $1,999",
         "marker": {
          "color": "#FF6692",
          "pattern": {
           "shape": ""
          }
         },
         "name": "Gross Rent $1,500 to $1,999",
         "offsetgroup": "Gross Rent $1,500 to $1,999",
         "orientation": "v",
         "showlegend": true,
         "text": [
          "Gross Rent $1,500 to $1,999",
          "Gross Rent $1,500 to $1,999",
          "Gross Rent $1,500 to $1,999"
         ],
         "textposition": "auto",
         "type": "bar",
         "x": [
          "2011-2015",
          "2012-2016",
          "2017-2021"
         ],
         "xaxis": "x",
         "y": [
          603,
          777,
          983
         ],
         "yaxis": "y"
        },
        {
         "alignmentgroup": "True",
         "hovertemplate": "category=%{text}<br>year=%{x}<br>sum=%{y}<extra></extra>",
         "legendgroup": "Gross Rent $2,000 or More",
         "marker": {
          "color": "#B6E880",
          "pattern": {
           "shape": ""
          }
         },
         "name": "Gross Rent $2,000 or More",
         "offsetgroup": "Gross Rent $2,000 or More",
         "orientation": "v",
         "showlegend": true,
         "text": [
          "Gross Rent $2,000 or More",
          "Gross Rent $2,000 or More",
          "Gross Rent $2,000 or More"
         ],
         "textposition": "auto",
         "type": "bar",
         "x": [
          "2011-2015",
          "2012-2016",
          "2017-2021"
         ],
         "xaxis": "x",
         "y": [
          259,
          1410,
          2011
         ],
         "yaxis": "y"
        }
       ],
       "layout": {
        "barmode": "relative",
        "legend": {
         "title": {
          "text": "category"
         },
         "tracegroupgap": 0
        },
        "template": {
         "data": {
          "bar": [
           {
            "error_x": {
             "color": "#2a3f5f"
            },
            "error_y": {
             "color": "#2a3f5f"
            },
            "marker": {
             "line": {
              "color": "#E5ECF6",
              "width": 0.5
             },
             "pattern": {
              "fillmode": "overlay",
              "size": 10,
              "solidity": 0.2
             }
            },
            "type": "bar"
           }
          ],
          "barpolar": [
           {
            "marker": {
             "line": {
              "color": "#E5ECF6",
              "width": 0.5
             },
             "pattern": {
              "fillmode": "overlay",
              "size": 10,
              "solidity": 0.2
             }
            },
            "type": "barpolar"
           }
          ],
          "carpet": [
           {
            "aaxis": {
             "endlinecolor": "#2a3f5f",
             "gridcolor": "white",
             "linecolor": "white",
             "minorgridcolor": "white",
             "startlinecolor": "#2a3f5f"
            },
            "baxis": {
             "endlinecolor": "#2a3f5f",
             "gridcolor": "white",
             "linecolor": "white",
             "minorgridcolor": "white",
             "startlinecolor": "#2a3f5f"
            },
            "type": "carpet"
           }
          ],
          "choropleth": [
           {
            "colorbar": {
             "outlinewidth": 0,
             "ticks": ""
            },
            "type": "choropleth"
           }
          ],
          "contour": [
           {
            "colorbar": {
             "outlinewidth": 0,
             "ticks": ""
            },
            "colorscale": [
             [
              0,
              "#0d0887"
             ],
             [
              0.1111111111111111,
              "#46039f"
             ],
             [
              0.2222222222222222,
              "#7201a8"
             ],
             [
              0.3333333333333333,
              "#9c179e"
             ],
             [
              0.4444444444444444,
              "#bd3786"
             ],
             [
              0.5555555555555556,
              "#d8576b"
             ],
             [
              0.6666666666666666,
              "#ed7953"
             ],
             [
              0.7777777777777778,
              "#fb9f3a"
             ],
             [
              0.8888888888888888,
              "#fdca26"
             ],
             [
              1,
              "#f0f921"
             ]
            ],
            "type": "contour"
           }
          ],
          "contourcarpet": [
           {
            "colorbar": {
             "outlinewidth": 0,
             "ticks": ""
            },
            "type": "contourcarpet"
           }
          ],
          "heatmap": [
           {
            "colorbar": {
             "outlinewidth": 0,
             "ticks": ""
            },
            "colorscale": [
             [
              0,
              "#0d0887"
             ],
             [
              0.1111111111111111,
              "#46039f"
             ],
             [
              0.2222222222222222,
              "#7201a8"
             ],
             [
              0.3333333333333333,
              "#9c179e"
             ],
             [
              0.4444444444444444,
              "#bd3786"
             ],
             [
              0.5555555555555556,
              "#d8576b"
             ],
             [
              0.6666666666666666,
              "#ed7953"
             ],
             [
              0.7777777777777778,
              "#fb9f3a"
             ],
             [
              0.8888888888888888,
              "#fdca26"
             ],
             [
              1,
              "#f0f921"
             ]
            ],
            "type": "heatmap"
           }
          ],
          "heatmapgl": [
           {
            "colorbar": {
             "outlinewidth": 0,
             "ticks": ""
            },
            "colorscale": [
             [
              0,
              "#0d0887"
             ],
             [
              0.1111111111111111,
              "#46039f"
             ],
             [
              0.2222222222222222,
              "#7201a8"
             ],
             [
              0.3333333333333333,
              "#9c179e"
             ],
             [
              0.4444444444444444,
              "#bd3786"
             ],
             [
              0.5555555555555556,
              "#d8576b"
             ],
             [
              0.6666666666666666,
              "#ed7953"
             ],
             [
              0.7777777777777778,
              "#fb9f3a"
             ],
             [
              0.8888888888888888,
              "#fdca26"
             ],
             [
              1,
              "#f0f921"
             ]
            ],
            "type": "heatmapgl"
           }
          ],
          "histogram": [
           {
            "marker": {
             "pattern": {
              "fillmode": "overlay",
              "size": 10,
              "solidity": 0.2
             }
            },
            "type": "histogram"
           }
          ],
          "histogram2d": [
           {
            "colorbar": {
             "outlinewidth": 0,
             "ticks": ""
            },
            "colorscale": [
             [
              0,
              "#0d0887"
             ],
             [
              0.1111111111111111,
              "#46039f"
             ],
             [
              0.2222222222222222,
              "#7201a8"
             ],
             [
              0.3333333333333333,
              "#9c179e"
             ],
             [
              0.4444444444444444,
              "#bd3786"
             ],
             [
              0.5555555555555556,
              "#d8576b"
             ],
             [
              0.6666666666666666,
              "#ed7953"
             ],
             [
              0.7777777777777778,
              "#fb9f3a"
             ],
             [
              0.8888888888888888,
              "#fdca26"
             ],
             [
              1,
              "#f0f921"
             ]
            ],
            "type": "histogram2d"
           }
          ],
          "histogram2dcontour": [
           {
            "colorbar": {
             "outlinewidth": 0,
             "ticks": ""
            },
            "colorscale": [
             [
              0,
              "#0d0887"
             ],
             [
              0.1111111111111111,
              "#46039f"
             ],
             [
              0.2222222222222222,
              "#7201a8"
             ],
             [
              0.3333333333333333,
              "#9c179e"
             ],
             [
              0.4444444444444444,
              "#bd3786"
             ],
             [
              0.5555555555555556,
              "#d8576b"
             ],
             [
              0.6666666666666666,
              "#ed7953"
             ],
             [
              0.7777777777777778,
              "#fb9f3a"
             ],
             [
              0.8888888888888888,
              "#fdca26"
             ],
             [
              1,
              "#f0f921"
             ]
            ],
            "type": "histogram2dcontour"
           }
          ],
          "mesh3d": [
           {
            "colorbar": {
             "outlinewidth": 0,
             "ticks": ""
            },
            "type": "mesh3d"
           }
          ],
          "parcoords": [
           {
            "line": {
             "colorbar": {
              "outlinewidth": 0,
              "ticks": ""
             }
            },
            "type": "parcoords"
           }
          ],
          "pie": [
           {
            "automargin": true,
            "type": "pie"
           }
          ],
          "scatter": [
           {
            "fillpattern": {
             "fillmode": "overlay",
             "size": 10,
             "solidity": 0.2
            },
            "type": "scatter"
           }
          ],
          "scatter3d": [
           {
            "line": {
             "colorbar": {
              "outlinewidth": 0,
              "ticks": ""
             }
            },
            "marker": {
             "colorbar": {
              "outlinewidth": 0,
              "ticks": ""
             }
            },
            "type": "scatter3d"
           }
          ],
          "scattercarpet": [
           {
            "marker": {
             "colorbar": {
              "outlinewidth": 0,
              "ticks": ""
             }
            },
            "type": "scattercarpet"
           }
          ],
          "scattergeo": [
           {
            "marker": {
             "colorbar": {
              "outlinewidth": 0,
              "ticks": ""
             }
            },
            "type": "scattergeo"
           }
          ],
          "scattergl": [
           {
            "marker": {
             "colorbar": {
              "outlinewidth": 0,
              "ticks": ""
             }
            },
            "type": "scattergl"
           }
          ],
          "scattermapbox": [
           {
            "marker": {
             "colorbar": {
              "outlinewidth": 0,
              "ticks": ""
             }
            },
            "type": "scattermapbox"
           }
          ],
          "scatterpolar": [
           {
            "marker": {
             "colorbar": {
              "outlinewidth": 0,
              "ticks": ""
             }
            },
            "type": "scatterpolar"
           }
          ],
          "scatterpolargl": [
           {
            "marker": {
             "colorbar": {
              "outlinewidth": 0,
              "ticks": ""
             }
            },
            "type": "scatterpolargl"
           }
          ],
          "scatterternary": [
           {
            "marker": {
             "colorbar": {
              "outlinewidth": 0,
              "ticks": ""
             }
            },
            "type": "scatterternary"
           }
          ],
          "surface": [
           {
            "colorbar": {
             "outlinewidth": 0,
             "ticks": ""
            },
            "colorscale": [
             [
              0,
              "#0d0887"
             ],
             [
              0.1111111111111111,
              "#46039f"
             ],
             [
              0.2222222222222222,
              "#7201a8"
             ],
             [
              0.3333333333333333,
              "#9c179e"
             ],
             [
              0.4444444444444444,
              "#bd3786"
             ],
             [
              0.5555555555555556,
              "#d8576b"
             ],
             [
              0.6666666666666666,
              "#ed7953"
             ],
             [
              0.7777777777777778,
              "#fb9f3a"
             ],
             [
              0.8888888888888888,
              "#fdca26"
             ],
             [
              1,
              "#f0f921"
             ]
            ],
            "type": "surface"
           }
          ],
          "table": [
           {
            "cells": {
             "fill": {
              "color": "#EBF0F8"
             },
             "line": {
              "color": "white"
             }
            },
            "header": {
             "fill": {
              "color": "#C8D4E3"
             },
             "line": {
              "color": "white"
             }
            },
            "type": "table"
           }
          ]
         },
         "layout": {
          "annotationdefaults": {
           "arrowcolor": "#2a3f5f",
           "arrowhead": 0,
           "arrowwidth": 1
          },
          "autotypenumbers": "strict",
          "coloraxis": {
           "colorbar": {
            "outlinewidth": 0,
            "ticks": ""
           }
          },
          "colorscale": {
           "diverging": [
            [
             0,
             "#8e0152"
            ],
            [
             0.1,
             "#c51b7d"
            ],
            [
             0.2,
             "#de77ae"
            ],
            [
             0.3,
             "#f1b6da"
            ],
            [
             0.4,
             "#fde0ef"
            ],
            [
             0.5,
             "#f7f7f7"
            ],
            [
             0.6,
             "#e6f5d0"
            ],
            [
             0.7,
             "#b8e186"
            ],
            [
             0.8,
             "#7fbc41"
            ],
            [
             0.9,
             "#4d9221"
            ],
            [
             1,
             "#276419"
            ]
           ],
           "sequential": [
            [
             0,
             "#0d0887"
            ],
            [
             0.1111111111111111,
             "#46039f"
            ],
            [
             0.2222222222222222,
             "#7201a8"
            ],
            [
             0.3333333333333333,
             "#9c179e"
            ],
            [
             0.4444444444444444,
             "#bd3786"
            ],
            [
             0.5555555555555556,
             "#d8576b"
            ],
            [
             0.6666666666666666,
             "#ed7953"
            ],
            [
             0.7777777777777778,
             "#fb9f3a"
            ],
            [
             0.8888888888888888,
             "#fdca26"
            ],
            [
             1,
             "#f0f921"
            ]
           ],
           "sequentialminus": [
            [
             0,
             "#0d0887"
            ],
            [
             0.1111111111111111,
             "#46039f"
            ],
            [
             0.2222222222222222,
             "#7201a8"
            ],
            [
             0.3333333333333333,
             "#9c179e"
            ],
            [
             0.4444444444444444,
             "#bd3786"
            ],
            [
             0.5555555555555556,
             "#d8576b"
            ],
            [
             0.6666666666666666,
             "#ed7953"
            ],
            [
             0.7777777777777778,
             "#fb9f3a"
            ],
            [
             0.8888888888888888,
             "#fdca26"
            ],
            [
             1,
             "#f0f921"
            ]
           ]
          },
          "colorway": [
           "#636efa",
           "#EF553B",
           "#00cc96",
           "#ab63fa",
           "#FFA15A",
           "#19d3f3",
           "#FF6692",
           "#B6E880",
           "#FF97FF",
           "#FECB52"
          ],
          "font": {
           "color": "#2a3f5f"
          },
          "geo": {
           "bgcolor": "white",
           "lakecolor": "white",
           "landcolor": "#E5ECF6",
           "showlakes": true,
           "showland": true,
           "subunitcolor": "white"
          },
          "hoverlabel": {
           "align": "left"
          },
          "hovermode": "closest",
          "mapbox": {
           "style": "light"
          },
          "paper_bgcolor": "white",
          "plot_bgcolor": "#E5ECF6",
          "polar": {
           "angularaxis": {
            "gridcolor": "white",
            "linecolor": "white",
            "ticks": ""
           },
           "bgcolor": "#E5ECF6",
           "radialaxis": {
            "gridcolor": "white",
            "linecolor": "white",
            "ticks": ""
           }
          },
          "scene": {
           "xaxis": {
            "backgroundcolor": "#E5ECF6",
            "gridcolor": "white",
            "gridwidth": 2,
            "linecolor": "white",
            "showbackground": true,
            "ticks": "",
            "zerolinecolor": "white"
           },
           "yaxis": {
            "backgroundcolor": "#E5ECF6",
            "gridcolor": "white",
            "gridwidth": 2,
            "linecolor": "white",
            "showbackground": true,
            "ticks": "",
            "zerolinecolor": "white"
           },
           "zaxis": {
            "backgroundcolor": "#E5ECF6",
            "gridcolor": "white",
            "gridwidth": 2,
            "linecolor": "white",
            "showbackground": true,
            "ticks": "",
            "zerolinecolor": "white"
           }
          },
          "shapedefaults": {
           "line": {
            "color": "#2a3f5f"
           }
          },
          "ternary": {
           "aaxis": {
            "gridcolor": "white",
            "linecolor": "white",
            "ticks": ""
           },
           "baxis": {
            "gridcolor": "white",
            "linecolor": "white",
            "ticks": ""
           },
           "bgcolor": "#E5ECF6",
           "caxis": {
            "gridcolor": "white",
            "linecolor": "white",
            "ticks": ""
           }
          },
          "title": {
           "x": 0.05
          },
          "xaxis": {
           "automargin": true,
           "gridcolor": "white",
           "linecolor": "white",
           "ticks": "",
           "title": {
            "standoff": 15
           },
           "zerolinecolor": "white",
           "zerolinewidth": 2
          },
          "yaxis": {
           "automargin": true,
           "gridcolor": "white",
           "linecolor": "white",
           "ticks": "",
           "title": {
            "standoff": 15
           },
           "zerolinecolor": "white",
           "zerolinewidth": 2
          }
         }
        },
        "title": {
         "text": "Gross Rent in Chinatown Block Groups"
        },
        "xaxis": {
         "anchor": "y",
         "domain": [
          0,
          1
         ],
         "title": {
          "text": "year"
         }
        },
        "yaxis": {
         "anchor": "x",
         "domain": [
          0,
          1
         ],
         "title": {
          "text": "sum"
         }
        }
       }
      },
      "text/html": [
       "<div>                            <div id=\"6c1a54a9-84e8-4791-89ae-2972b7c5cb3b\" class=\"plotly-graph-div\" style=\"height:525px; width:100%;\"></div>            <script type=\"text/javascript\">                require([\"plotly\"], function(Plotly) {                    window.PLOTLYENV=window.PLOTLYENV || {};                                    if (document.getElementById(\"6c1a54a9-84e8-4791-89ae-2972b7c5cb3b\")) {                    Plotly.newPlot(                        \"6c1a54a9-84e8-4791-89ae-2972b7c5cb3b\",                        [{\"alignmentgroup\":\"True\",\"hovertemplate\":\"category=%{text}<br>year=%{x}<br>sum=%{y}<extra></extra>\",\"legendgroup\":\"Gross Rent Less than $300\",\"marker\":{\"color\":\"#636efa\",\"pattern\":{\"shape\":\"\"}},\"name\":\"Gross Rent Less than $300\",\"offsetgroup\":\"Gross Rent Less than $300\",\"orientation\":\"v\",\"showlegend\":true,\"text\":[\"Gross Rent Less than $300\",\"Gross Rent Less than $300\",\"Gross Rent Less than $300\"],\"textposition\":\"auto\",\"x\":[\"2011-2015\",\"2012-2016\",\"2017-2021\"],\"xaxis\":\"x\",\"y\":[570,294,274],\"yaxis\":\"y\",\"type\":\"bar\"},{\"alignmentgroup\":\"True\",\"hovertemplate\":\"category=%{text}<br>year=%{x}<br>sum=%{y}<extra></extra>\",\"legendgroup\":\"Gross Rent $300 to $599\",\"marker\":{\"color\":\"#EF553B\",\"pattern\":{\"shape\":\"\"}},\"name\":\"Gross Rent $300 to $599\",\"offsetgroup\":\"Gross Rent $300 to $599\",\"orientation\":\"v\",\"showlegend\":true,\"text\":[\"Gross Rent $300 to $599\",\"Gross Rent $300 to $599\",\"Gross Rent $300 to $599\"],\"textposition\":\"auto\",\"x\":[\"2011-2015\",\"2012-2016\",\"2017-2021\"],\"xaxis\":\"x\",\"y\":[882,760,738],\"yaxis\":\"y\",\"type\":\"bar\"},{\"alignmentgroup\":\"True\",\"hovertemplate\":\"category=%{text}<br>year=%{x}<br>sum=%{y}<extra></extra>\",\"legendgroup\":\"Gross Rent $600 to $799\",\"marker\":{\"color\":\"#00cc96\",\"pattern\":{\"shape\":\"\"}},\"name\":\"Gross Rent $600 to $799\",\"offsetgroup\":\"Gross Rent $600 to $799\",\"orientation\":\"v\",\"showlegend\":true,\"text\":[\"Gross Rent $600 to $799\",\"Gross Rent $600 to $799\",\"Gross Rent $600 to $799\"],\"textposition\":\"auto\",\"x\":[\"2011-2015\",\"2012-2016\",\"2017-2021\"],\"xaxis\":\"x\",\"y\":[879,697,272],\"yaxis\":\"y\",\"type\":\"bar\"},{\"alignmentgroup\":\"True\",\"hovertemplate\":\"category=%{text}<br>year=%{x}<br>sum=%{y}<extra></extra>\",\"legendgroup\":\"Gross Rent $800 to $999\",\"marker\":{\"color\":\"#ab63fa\",\"pattern\":{\"shape\":\"\"}},\"name\":\"Gross Rent $800 to $999\",\"offsetgroup\":\"Gross Rent $800 to $999\",\"orientation\":\"v\",\"showlegend\":true,\"text\":[\"Gross Rent $800 to $999\",\"Gross Rent $800 to $999\",\"Gross Rent $800 to $999\"],\"textposition\":\"auto\",\"x\":[\"2011-2015\",\"2012-2016\",\"2017-2021\"],\"xaxis\":\"x\",\"y\":[1077,729,771],\"yaxis\":\"y\",\"type\":\"bar\"},{\"alignmentgroup\":\"True\",\"hovertemplate\":\"category=%{text}<br>year=%{x}<br>sum=%{y}<extra></extra>\",\"legendgroup\":\"Gross Rent $1,000 to $1,249\",\"marker\":{\"color\":\"#FFA15A\",\"pattern\":{\"shape\":\"\"}},\"name\":\"Gross Rent $1,000 to $1,249\",\"offsetgroup\":\"Gross Rent $1,000 to $1,249\",\"orientation\":\"v\",\"showlegend\":true,\"text\":[\"Gross Rent $1,000 to $1,249\",\"Gross Rent $1,000 to $1,249\",\"Gross Rent $1,000 to $1,249\"],\"textposition\":\"auto\",\"x\":[\"2011-2015\",\"2012-2016\",\"2017-2021\"],\"xaxis\":\"x\",\"y\":[621,809,737],\"yaxis\":\"y\",\"type\":\"bar\"},{\"alignmentgroup\":\"True\",\"hovertemplate\":\"category=%{text}<br>year=%{x}<br>sum=%{y}<extra></extra>\",\"legendgroup\":\"Gross Rent $1,250 to $1,499\",\"marker\":{\"color\":\"#19d3f3\",\"pattern\":{\"shape\":\"\"}},\"name\":\"Gross Rent $1,250 to $1,499\",\"offsetgroup\":\"Gross Rent $1,250 to $1,499\",\"orientation\":\"v\",\"showlegend\":true,\"text\":[\"Gross Rent $1,250 to $1,499\",\"Gross Rent $1,250 to $1,499\",\"Gross Rent $1,250 to $1,499\"],\"textposition\":\"auto\",\"x\":[\"2011-2015\",\"2012-2016\",\"2017-2021\"],\"xaxis\":\"x\",\"y\":[367,637,753],\"yaxis\":\"y\",\"type\":\"bar\"},{\"alignmentgroup\":\"True\",\"hovertemplate\":\"category=%{text}<br>year=%{x}<br>sum=%{y}<extra></extra>\",\"legendgroup\":\"Gross Rent $1,500 to $1,999\",\"marker\":{\"color\":\"#FF6692\",\"pattern\":{\"shape\":\"\"}},\"name\":\"Gross Rent $1,500 to $1,999\",\"offsetgroup\":\"Gross Rent $1,500 to $1,999\",\"orientation\":\"v\",\"showlegend\":true,\"text\":[\"Gross Rent $1,500 to $1,999\",\"Gross Rent $1,500 to $1,999\",\"Gross Rent $1,500 to $1,999\"],\"textposition\":\"auto\",\"x\":[\"2011-2015\",\"2012-2016\",\"2017-2021\"],\"xaxis\":\"x\",\"y\":[603,777,983],\"yaxis\":\"y\",\"type\":\"bar\"},{\"alignmentgroup\":\"True\",\"hovertemplate\":\"category=%{text}<br>year=%{x}<br>sum=%{y}<extra></extra>\",\"legendgroup\":\"Gross Rent $2,000 or More\",\"marker\":{\"color\":\"#B6E880\",\"pattern\":{\"shape\":\"\"}},\"name\":\"Gross Rent $2,000 or More\",\"offsetgroup\":\"Gross Rent $2,000 or More\",\"orientation\":\"v\",\"showlegend\":true,\"text\":[\"Gross Rent $2,000 or More\",\"Gross Rent $2,000 or More\",\"Gross Rent $2,000 or More\"],\"textposition\":\"auto\",\"x\":[\"2011-2015\",\"2012-2016\",\"2017-2021\"],\"xaxis\":\"x\",\"y\":[259,1410,2011],\"yaxis\":\"y\",\"type\":\"bar\"}],                        {\"template\":{\"data\":{\"histogram2dcontour\":[{\"type\":\"histogram2dcontour\",\"colorbar\":{\"outlinewidth\":0,\"ticks\":\"\"},\"colorscale\":[[0.0,\"#0d0887\"],[0.1111111111111111,\"#46039f\"],[0.2222222222222222,\"#7201a8\"],[0.3333333333333333,\"#9c179e\"],[0.4444444444444444,\"#bd3786\"],[0.5555555555555556,\"#d8576b\"],[0.6666666666666666,\"#ed7953\"],[0.7777777777777778,\"#fb9f3a\"],[0.8888888888888888,\"#fdca26\"],[1.0,\"#f0f921\"]]}],\"choropleth\":[{\"type\":\"choropleth\",\"colorbar\":{\"outlinewidth\":0,\"ticks\":\"\"}}],\"histogram2d\":[{\"type\":\"histogram2d\",\"colorbar\":{\"outlinewidth\":0,\"ticks\":\"\"},\"colorscale\":[[0.0,\"#0d0887\"],[0.1111111111111111,\"#46039f\"],[0.2222222222222222,\"#7201a8\"],[0.3333333333333333,\"#9c179e\"],[0.4444444444444444,\"#bd3786\"],[0.5555555555555556,\"#d8576b\"],[0.6666666666666666,\"#ed7953\"],[0.7777777777777778,\"#fb9f3a\"],[0.8888888888888888,\"#fdca26\"],[1.0,\"#f0f921\"]]}],\"heatmap\":[{\"type\":\"heatmap\",\"colorbar\":{\"outlinewidth\":0,\"ticks\":\"\"},\"colorscale\":[[0.0,\"#0d0887\"],[0.1111111111111111,\"#46039f\"],[0.2222222222222222,\"#7201a8\"],[0.3333333333333333,\"#9c179e\"],[0.4444444444444444,\"#bd3786\"],[0.5555555555555556,\"#d8576b\"],[0.6666666666666666,\"#ed7953\"],[0.7777777777777778,\"#fb9f3a\"],[0.8888888888888888,\"#fdca26\"],[1.0,\"#f0f921\"]]}],\"heatmapgl\":[{\"type\":\"heatmapgl\",\"colorbar\":{\"outlinewidth\":0,\"ticks\":\"\"},\"colorscale\":[[0.0,\"#0d0887\"],[0.1111111111111111,\"#46039f\"],[0.2222222222222222,\"#7201a8\"],[0.3333333333333333,\"#9c179e\"],[0.4444444444444444,\"#bd3786\"],[0.5555555555555556,\"#d8576b\"],[0.6666666666666666,\"#ed7953\"],[0.7777777777777778,\"#fb9f3a\"],[0.8888888888888888,\"#fdca26\"],[1.0,\"#f0f921\"]]}],\"contourcarpet\":[{\"type\":\"contourcarpet\",\"colorbar\":{\"outlinewidth\":0,\"ticks\":\"\"}}],\"contour\":[{\"type\":\"contour\",\"colorbar\":{\"outlinewidth\":0,\"ticks\":\"\"},\"colorscale\":[[0.0,\"#0d0887\"],[0.1111111111111111,\"#46039f\"],[0.2222222222222222,\"#7201a8\"],[0.3333333333333333,\"#9c179e\"],[0.4444444444444444,\"#bd3786\"],[0.5555555555555556,\"#d8576b\"],[0.6666666666666666,\"#ed7953\"],[0.7777777777777778,\"#fb9f3a\"],[0.8888888888888888,\"#fdca26\"],[1.0,\"#f0f921\"]]}],\"surface\":[{\"type\":\"surface\",\"colorbar\":{\"outlinewidth\":0,\"ticks\":\"\"},\"colorscale\":[[0.0,\"#0d0887\"],[0.1111111111111111,\"#46039f\"],[0.2222222222222222,\"#7201a8\"],[0.3333333333333333,\"#9c179e\"],[0.4444444444444444,\"#bd3786\"],[0.5555555555555556,\"#d8576b\"],[0.6666666666666666,\"#ed7953\"],[0.7777777777777778,\"#fb9f3a\"],[0.8888888888888888,\"#fdca26\"],[1.0,\"#f0f921\"]]}],\"mesh3d\":[{\"type\":\"mesh3d\",\"colorbar\":{\"outlinewidth\":0,\"ticks\":\"\"}}],\"scatter\":[{\"fillpattern\":{\"fillmode\":\"overlay\",\"size\":10,\"solidity\":0.2},\"type\":\"scatter\"}],\"parcoords\":[{\"type\":\"parcoords\",\"line\":{\"colorbar\":{\"outlinewidth\":0,\"ticks\":\"\"}}}],\"scatterpolargl\":[{\"type\":\"scatterpolargl\",\"marker\":{\"colorbar\":{\"outlinewidth\":0,\"ticks\":\"\"}}}],\"bar\":[{\"error_x\":{\"color\":\"#2a3f5f\"},\"error_y\":{\"color\":\"#2a3f5f\"},\"marker\":{\"line\":{\"color\":\"#E5ECF6\",\"width\":0.5},\"pattern\":{\"fillmode\":\"overlay\",\"size\":10,\"solidity\":0.2}},\"type\":\"bar\"}],\"scattergeo\":[{\"type\":\"scattergeo\",\"marker\":{\"colorbar\":{\"outlinewidth\":0,\"ticks\":\"\"}}}],\"scatterpolar\":[{\"type\":\"scatterpolar\",\"marker\":{\"colorbar\":{\"outlinewidth\":0,\"ticks\":\"\"}}}],\"histogram\":[{\"marker\":{\"pattern\":{\"fillmode\":\"overlay\",\"size\":10,\"solidity\":0.2}},\"type\":\"histogram\"}],\"scattergl\":[{\"type\":\"scattergl\",\"marker\":{\"colorbar\":{\"outlinewidth\":0,\"ticks\":\"\"}}}],\"scatter3d\":[{\"type\":\"scatter3d\",\"line\":{\"colorbar\":{\"outlinewidth\":0,\"ticks\":\"\"}},\"marker\":{\"colorbar\":{\"outlinewidth\":0,\"ticks\":\"\"}}}],\"scattermapbox\":[{\"type\":\"scattermapbox\",\"marker\":{\"colorbar\":{\"outlinewidth\":0,\"ticks\":\"\"}}}],\"scatterternary\":[{\"type\":\"scatterternary\",\"marker\":{\"colorbar\":{\"outlinewidth\":0,\"ticks\":\"\"}}}],\"scattercarpet\":[{\"type\":\"scattercarpet\",\"marker\":{\"colorbar\":{\"outlinewidth\":0,\"ticks\":\"\"}}}],\"carpet\":[{\"aaxis\":{\"endlinecolor\":\"#2a3f5f\",\"gridcolor\":\"white\",\"linecolor\":\"white\",\"minorgridcolor\":\"white\",\"startlinecolor\":\"#2a3f5f\"},\"baxis\":{\"endlinecolor\":\"#2a3f5f\",\"gridcolor\":\"white\",\"linecolor\":\"white\",\"minorgridcolor\":\"white\",\"startlinecolor\":\"#2a3f5f\"},\"type\":\"carpet\"}],\"table\":[{\"cells\":{\"fill\":{\"color\":\"#EBF0F8\"},\"line\":{\"color\":\"white\"}},\"header\":{\"fill\":{\"color\":\"#C8D4E3\"},\"line\":{\"color\":\"white\"}},\"type\":\"table\"}],\"barpolar\":[{\"marker\":{\"line\":{\"color\":\"#E5ECF6\",\"width\":0.5},\"pattern\":{\"fillmode\":\"overlay\",\"size\":10,\"solidity\":0.2}},\"type\":\"barpolar\"}],\"pie\":[{\"automargin\":true,\"type\":\"pie\"}]},\"layout\":{\"autotypenumbers\":\"strict\",\"colorway\":[\"#636efa\",\"#EF553B\",\"#00cc96\",\"#ab63fa\",\"#FFA15A\",\"#19d3f3\",\"#FF6692\",\"#B6E880\",\"#FF97FF\",\"#FECB52\"],\"font\":{\"color\":\"#2a3f5f\"},\"hovermode\":\"closest\",\"hoverlabel\":{\"align\":\"left\"},\"paper_bgcolor\":\"white\",\"plot_bgcolor\":\"#E5ECF6\",\"polar\":{\"bgcolor\":\"#E5ECF6\",\"angularaxis\":{\"gridcolor\":\"white\",\"linecolor\":\"white\",\"ticks\":\"\"},\"radialaxis\":{\"gridcolor\":\"white\",\"linecolor\":\"white\",\"ticks\":\"\"}},\"ternary\":{\"bgcolor\":\"#E5ECF6\",\"aaxis\":{\"gridcolor\":\"white\",\"linecolor\":\"white\",\"ticks\":\"\"},\"baxis\":{\"gridcolor\":\"white\",\"linecolor\":\"white\",\"ticks\":\"\"},\"caxis\":{\"gridcolor\":\"white\",\"linecolor\":\"white\",\"ticks\":\"\"}},\"coloraxis\":{\"colorbar\":{\"outlinewidth\":0,\"ticks\":\"\"}},\"colorscale\":{\"sequential\":[[0.0,\"#0d0887\"],[0.1111111111111111,\"#46039f\"],[0.2222222222222222,\"#7201a8\"],[0.3333333333333333,\"#9c179e\"],[0.4444444444444444,\"#bd3786\"],[0.5555555555555556,\"#d8576b\"],[0.6666666666666666,\"#ed7953\"],[0.7777777777777778,\"#fb9f3a\"],[0.8888888888888888,\"#fdca26\"],[1.0,\"#f0f921\"]],\"sequentialminus\":[[0.0,\"#0d0887\"],[0.1111111111111111,\"#46039f\"],[0.2222222222222222,\"#7201a8\"],[0.3333333333333333,\"#9c179e\"],[0.4444444444444444,\"#bd3786\"],[0.5555555555555556,\"#d8576b\"],[0.6666666666666666,\"#ed7953\"],[0.7777777777777778,\"#fb9f3a\"],[0.8888888888888888,\"#fdca26\"],[1.0,\"#f0f921\"]],\"diverging\":[[0,\"#8e0152\"],[0.1,\"#c51b7d\"],[0.2,\"#de77ae\"],[0.3,\"#f1b6da\"],[0.4,\"#fde0ef\"],[0.5,\"#f7f7f7\"],[0.6,\"#e6f5d0\"],[0.7,\"#b8e186\"],[0.8,\"#7fbc41\"],[0.9,\"#4d9221\"],[1,\"#276419\"]]},\"xaxis\":{\"gridcolor\":\"white\",\"linecolor\":\"white\",\"ticks\":\"\",\"title\":{\"standoff\":15},\"zerolinecolor\":\"white\",\"automargin\":true,\"zerolinewidth\":2},\"yaxis\":{\"gridcolor\":\"white\",\"linecolor\":\"white\",\"ticks\":\"\",\"title\":{\"standoff\":15},\"zerolinecolor\":\"white\",\"automargin\":true,\"zerolinewidth\":2},\"scene\":{\"xaxis\":{\"backgroundcolor\":\"#E5ECF6\",\"gridcolor\":\"white\",\"linecolor\":\"white\",\"showbackground\":true,\"ticks\":\"\",\"zerolinecolor\":\"white\",\"gridwidth\":2},\"yaxis\":{\"backgroundcolor\":\"#E5ECF6\",\"gridcolor\":\"white\",\"linecolor\":\"white\",\"showbackground\":true,\"ticks\":\"\",\"zerolinecolor\":\"white\",\"gridwidth\":2},\"zaxis\":{\"backgroundcolor\":\"#E5ECF6\",\"gridcolor\":\"white\",\"linecolor\":\"white\",\"showbackground\":true,\"ticks\":\"\",\"zerolinecolor\":\"white\",\"gridwidth\":2}},\"shapedefaults\":{\"line\":{\"color\":\"#2a3f5f\"}},\"annotationdefaults\":{\"arrowcolor\":\"#2a3f5f\",\"arrowhead\":0,\"arrowwidth\":1},\"geo\":{\"bgcolor\":\"white\",\"landcolor\":\"#E5ECF6\",\"subunitcolor\":\"white\",\"showland\":true,\"showlakes\":true,\"lakecolor\":\"white\"},\"title\":{\"x\":0.05},\"mapbox\":{\"style\":\"light\"}}},\"xaxis\":{\"anchor\":\"y\",\"domain\":[0.0,1.0],\"title\":{\"text\":\"year\"}},\"yaxis\":{\"anchor\":\"x\",\"domain\":[0.0,1.0],\"title\":{\"text\":\"sum\"}},\"legend\":{\"title\":{\"text\":\"category\"},\"tracegroupgap\":0},\"title\":{\"text\":\"Gross Rent in Chinatown Block Groups\"},\"barmode\":\"relative\"},                        {\"responsive\": true}                    ).then(function(){\n",
       "                            \n",
       "var gd = document.getElementById('6c1a54a9-84e8-4791-89ae-2972b7c5cb3b');\n",
       "var x = new MutationObserver(function (mutations, observer) {{\n",
       "        var display = window.getComputedStyle(gd).display;\n",
       "        if (!display || display === 'none') {{\n",
       "            console.log([gd, 'removed!']);\n",
       "            Plotly.purge(gd);\n",
       "            observer.disconnect();\n",
       "        }}\n",
       "}});\n",
       "\n",
       "// Listen for the removal of the full notebook cells\n",
       "var notebookContainer = gd.closest('#notebook-container');\n",
       "if (notebookContainer) {{\n",
       "    x.observe(notebookContainer, {childList: true});\n",
       "}}\n",
       "\n",
       "// Listen for the clearing of the current output cell\n",
       "var outputEl = gd.closest('.output');\n",
       "if (outputEl) {{\n",
       "    x.observe(outputEl, {childList: true});\n",
       "}}\n",
       "\n",
       "                        })                };                });            </script>        </div>"
      ]
     },
     "metadata": {},
     "output_type": "display_data"
    }
   ],
   "source": [
    "fig = px.bar(acs_2011_2021_rent_cat_sum_chinatown, x=\"year\", y=\"sum\", color=\"category\", title=\"Gross Rent in Chinatown Block Groups\",text=\"category\")\n",
    "fig.show()\n",
    "fig.write_image(\"Gross_Rent_Chinatown.pdf\")"
   ]
  },
  {
   "cell_type": "markdown",
   "id": "b9374308",
   "metadata": {},
   "source": [
    "### Map clipped block groups in Chinatown by gross median rent in 2011,2016,2021"
   ]
  },
  {
   "cell_type": "code",
   "execution_count": 13,
   "id": "c7db8bb6",
   "metadata": {},
   "outputs": [],
   "source": [
    "# 2011\n",
    "acs_2011_med_rent = acs_2011_rent_blockgroups_clip['Median Gross Rent']\n",
    "# 2016\n",
    "acs_2016_med_rent = acs_2016_rent_blockgroups_clip['Median Gross Rent']\n",
    "# 2021\n",
    "acs_2021_med_rent = acs_2021_rent_blockgroups_clip['Median Gross Rent']"
   ]
  },
  {
   "cell_type": "code",
   "execution_count": 14,
   "id": "764bd820",
   "metadata": {},
   "outputs": [],
   "source": [
    "### Count number of rent stabilized units"
   ]
  },
  {
   "cell_type": "code",
   "execution_count": 37,
   "id": "3899fe03",
   "metadata": {},
   "outputs": [],
   "source": [
    "# Import RSO units from 2016-2022\n",
    "# Read in RSO block group geojson files\n",
    "# 2016\n",
    "rso_2016_path = os.path.join(\"RSO\",\"rso_2016_shapes_clip.geojson\")\n",
    "rso_2016 = gpd.read_file(rso_2016_path)\n",
    "# 2017\n",
    "rso_2017_path = os.path.join(\"RSO\",\"rso_2017_shapes_clip.geojson\")\n",
    "rso_2017 = gpd.read_file(rso_2017_path)\n",
    "# 2018\n",
    "rso_2018_path = os.path.join(\"RSO\",\"rso_2018_shapes_clip.geojson\")\n",
    "rso_2018 = gpd.read_file(rso_2018_path)\n",
    "# 2019\n",
    "rso_2019_path = os.path.join(\"RSO\",\"rso_2019_shapes_clip.geojson\")\n",
    "rso_2019 = gpd.read_file(rso_2019_path)\n",
    "# 2020\n",
    "rso_2020_path = os.path.join(\"RSO\",\"rso_2020_shapes_clip.geojson\")\n",
    "rso_2020 = gpd.read_file(rso_2020_path)\n",
    "# 2021\n",
    "rso_2021_path = os.path.join(\"RSO\",\"rso_2021_shapes_clip.geojson\")\n",
    "rso_2021 = gpd.read_file(rso_2021_path)\n",
    "# 2022\n",
    "rso_2022_path = os.path.join(\"RSO\",\"rso_2022_shapes_clip.geojson\")\n",
    "rso_2022 = gpd.read_file(rso_2022_path)\n",
    "rso_2016_2022_list = [rso_2016['RSO Units'].sum(),rso_2017['RSO Units'].sum(),rso_2018['RSO Units'].sum(),rso_2019['RSO Units'].sum(),rso_2020['RSO Units'].sum(),rso_2021['RSO Units'].sum(), rso_2022['RSO Units'].sum()]\n",
    "rso_years = [2016,2017,2018,2019,2020,2021,2022]\n",
    "rso_2016_2022_df = pd.DataFrame(rso_2016_2022_list, index = rso_years,columns=['Total RSO Units'])"
   ]
  },
  {
   "cell_type": "code",
   "execution_count": 52,
   "id": "563b754c",
   "metadata": {},
   "outputs": [
    {
     "data": {
      "application/vnd.plotly.v1+json": {
       "config": {
        "plotlyServerURL": "https://plot.ly"
       },
       "data": [
        {
         "hovertemplate": "index=%{x}<br>Total RSO Units=%{text}<extra></extra>",
         "legendgroup": "",
         "line": {
          "color": "#636efa",
          "dash": "solid"
         },
         "marker": {
          "symbol": "circle"
         },
         "mode": "markers+text+lines",
         "name": "",
         "orientation": "v",
         "showlegend": false,
         "text": [
          1546,
          1544,
          1422,
          1418,
          1418,
          1358,
          1359
         ],
         "textposition": "top right",
         "type": "scatter",
         "x": [
          2016,
          2017,
          2018,
          2019,
          2020,
          2021,
          2022
         ],
         "xaxis": "x",
         "y": [
          1546,
          1544,
          1422,
          1418,
          1418,
          1358,
          1359
         ],
         "yaxis": "y"
        }
       ],
       "layout": {
        "legend": {
         "tracegroupgap": 0
        },
        "template": {
         "data": {
          "bar": [
           {
            "error_x": {
             "color": "#2a3f5f"
            },
            "error_y": {
             "color": "#2a3f5f"
            },
            "marker": {
             "line": {
              "color": "#E5ECF6",
              "width": 0.5
             },
             "pattern": {
              "fillmode": "overlay",
              "size": 10,
              "solidity": 0.2
             }
            },
            "type": "bar"
           }
          ],
          "barpolar": [
           {
            "marker": {
             "line": {
              "color": "#E5ECF6",
              "width": 0.5
             },
             "pattern": {
              "fillmode": "overlay",
              "size": 10,
              "solidity": 0.2
             }
            },
            "type": "barpolar"
           }
          ],
          "carpet": [
           {
            "aaxis": {
             "endlinecolor": "#2a3f5f",
             "gridcolor": "white",
             "linecolor": "white",
             "minorgridcolor": "white",
             "startlinecolor": "#2a3f5f"
            },
            "baxis": {
             "endlinecolor": "#2a3f5f",
             "gridcolor": "white",
             "linecolor": "white",
             "minorgridcolor": "white",
             "startlinecolor": "#2a3f5f"
            },
            "type": "carpet"
           }
          ],
          "choropleth": [
           {
            "colorbar": {
             "outlinewidth": 0,
             "ticks": ""
            },
            "type": "choropleth"
           }
          ],
          "contour": [
           {
            "colorbar": {
             "outlinewidth": 0,
             "ticks": ""
            },
            "colorscale": [
             [
              0,
              "#0d0887"
             ],
             [
              0.1111111111111111,
              "#46039f"
             ],
             [
              0.2222222222222222,
              "#7201a8"
             ],
             [
              0.3333333333333333,
              "#9c179e"
             ],
             [
              0.4444444444444444,
              "#bd3786"
             ],
             [
              0.5555555555555556,
              "#d8576b"
             ],
             [
              0.6666666666666666,
              "#ed7953"
             ],
             [
              0.7777777777777778,
              "#fb9f3a"
             ],
             [
              0.8888888888888888,
              "#fdca26"
             ],
             [
              1,
              "#f0f921"
             ]
            ],
            "type": "contour"
           }
          ],
          "contourcarpet": [
           {
            "colorbar": {
             "outlinewidth": 0,
             "ticks": ""
            },
            "type": "contourcarpet"
           }
          ],
          "heatmap": [
           {
            "colorbar": {
             "outlinewidth": 0,
             "ticks": ""
            },
            "colorscale": [
             [
              0,
              "#0d0887"
             ],
             [
              0.1111111111111111,
              "#46039f"
             ],
             [
              0.2222222222222222,
              "#7201a8"
             ],
             [
              0.3333333333333333,
              "#9c179e"
             ],
             [
              0.4444444444444444,
              "#bd3786"
             ],
             [
              0.5555555555555556,
              "#d8576b"
             ],
             [
              0.6666666666666666,
              "#ed7953"
             ],
             [
              0.7777777777777778,
              "#fb9f3a"
             ],
             [
              0.8888888888888888,
              "#fdca26"
             ],
             [
              1,
              "#f0f921"
             ]
            ],
            "type": "heatmap"
           }
          ],
          "heatmapgl": [
           {
            "colorbar": {
             "outlinewidth": 0,
             "ticks": ""
            },
            "colorscale": [
             [
              0,
              "#0d0887"
             ],
             [
              0.1111111111111111,
              "#46039f"
             ],
             [
              0.2222222222222222,
              "#7201a8"
             ],
             [
              0.3333333333333333,
              "#9c179e"
             ],
             [
              0.4444444444444444,
              "#bd3786"
             ],
             [
              0.5555555555555556,
              "#d8576b"
             ],
             [
              0.6666666666666666,
              "#ed7953"
             ],
             [
              0.7777777777777778,
              "#fb9f3a"
             ],
             [
              0.8888888888888888,
              "#fdca26"
             ],
             [
              1,
              "#f0f921"
             ]
            ],
            "type": "heatmapgl"
           }
          ],
          "histogram": [
           {
            "marker": {
             "pattern": {
              "fillmode": "overlay",
              "size": 10,
              "solidity": 0.2
             }
            },
            "type": "histogram"
           }
          ],
          "histogram2d": [
           {
            "colorbar": {
             "outlinewidth": 0,
             "ticks": ""
            },
            "colorscale": [
             [
              0,
              "#0d0887"
             ],
             [
              0.1111111111111111,
              "#46039f"
             ],
             [
              0.2222222222222222,
              "#7201a8"
             ],
             [
              0.3333333333333333,
              "#9c179e"
             ],
             [
              0.4444444444444444,
              "#bd3786"
             ],
             [
              0.5555555555555556,
              "#d8576b"
             ],
             [
              0.6666666666666666,
              "#ed7953"
             ],
             [
              0.7777777777777778,
              "#fb9f3a"
             ],
             [
              0.8888888888888888,
              "#fdca26"
             ],
             [
              1,
              "#f0f921"
             ]
            ],
            "type": "histogram2d"
           }
          ],
          "histogram2dcontour": [
           {
            "colorbar": {
             "outlinewidth": 0,
             "ticks": ""
            },
            "colorscale": [
             [
              0,
              "#0d0887"
             ],
             [
              0.1111111111111111,
              "#46039f"
             ],
             [
              0.2222222222222222,
              "#7201a8"
             ],
             [
              0.3333333333333333,
              "#9c179e"
             ],
             [
              0.4444444444444444,
              "#bd3786"
             ],
             [
              0.5555555555555556,
              "#d8576b"
             ],
             [
              0.6666666666666666,
              "#ed7953"
             ],
             [
              0.7777777777777778,
              "#fb9f3a"
             ],
             [
              0.8888888888888888,
              "#fdca26"
             ],
             [
              1,
              "#f0f921"
             ]
            ],
            "type": "histogram2dcontour"
           }
          ],
          "mesh3d": [
           {
            "colorbar": {
             "outlinewidth": 0,
             "ticks": ""
            },
            "type": "mesh3d"
           }
          ],
          "parcoords": [
           {
            "line": {
             "colorbar": {
              "outlinewidth": 0,
              "ticks": ""
             }
            },
            "type": "parcoords"
           }
          ],
          "pie": [
           {
            "automargin": true,
            "type": "pie"
           }
          ],
          "scatter": [
           {
            "fillpattern": {
             "fillmode": "overlay",
             "size": 10,
             "solidity": 0.2
            },
            "type": "scatter"
           }
          ],
          "scatter3d": [
           {
            "line": {
             "colorbar": {
              "outlinewidth": 0,
              "ticks": ""
             }
            },
            "marker": {
             "colorbar": {
              "outlinewidth": 0,
              "ticks": ""
             }
            },
            "type": "scatter3d"
           }
          ],
          "scattercarpet": [
           {
            "marker": {
             "colorbar": {
              "outlinewidth": 0,
              "ticks": ""
             }
            },
            "type": "scattercarpet"
           }
          ],
          "scattergeo": [
           {
            "marker": {
             "colorbar": {
              "outlinewidth": 0,
              "ticks": ""
             }
            },
            "type": "scattergeo"
           }
          ],
          "scattergl": [
           {
            "marker": {
             "colorbar": {
              "outlinewidth": 0,
              "ticks": ""
             }
            },
            "type": "scattergl"
           }
          ],
          "scattermapbox": [
           {
            "marker": {
             "colorbar": {
              "outlinewidth": 0,
              "ticks": ""
             }
            },
            "type": "scattermapbox"
           }
          ],
          "scatterpolar": [
           {
            "marker": {
             "colorbar": {
              "outlinewidth": 0,
              "ticks": ""
             }
            },
            "type": "scatterpolar"
           }
          ],
          "scatterpolargl": [
           {
            "marker": {
             "colorbar": {
              "outlinewidth": 0,
              "ticks": ""
             }
            },
            "type": "scatterpolargl"
           }
          ],
          "scatterternary": [
           {
            "marker": {
             "colorbar": {
              "outlinewidth": 0,
              "ticks": ""
             }
            },
            "type": "scatterternary"
           }
          ],
          "surface": [
           {
            "colorbar": {
             "outlinewidth": 0,
             "ticks": ""
            },
            "colorscale": [
             [
              0,
              "#0d0887"
             ],
             [
              0.1111111111111111,
              "#46039f"
             ],
             [
              0.2222222222222222,
              "#7201a8"
             ],
             [
              0.3333333333333333,
              "#9c179e"
             ],
             [
              0.4444444444444444,
              "#bd3786"
             ],
             [
              0.5555555555555556,
              "#d8576b"
             ],
             [
              0.6666666666666666,
              "#ed7953"
             ],
             [
              0.7777777777777778,
              "#fb9f3a"
             ],
             [
              0.8888888888888888,
              "#fdca26"
             ],
             [
              1,
              "#f0f921"
             ]
            ],
            "type": "surface"
           }
          ],
          "table": [
           {
            "cells": {
             "fill": {
              "color": "#EBF0F8"
             },
             "line": {
              "color": "white"
             }
            },
            "header": {
             "fill": {
              "color": "#C8D4E3"
             },
             "line": {
              "color": "white"
             }
            },
            "type": "table"
           }
          ]
         },
         "layout": {
          "annotationdefaults": {
           "arrowcolor": "#2a3f5f",
           "arrowhead": 0,
           "arrowwidth": 1
          },
          "autotypenumbers": "strict",
          "coloraxis": {
           "colorbar": {
            "outlinewidth": 0,
            "ticks": ""
           }
          },
          "colorscale": {
           "diverging": [
            [
             0,
             "#8e0152"
            ],
            [
             0.1,
             "#c51b7d"
            ],
            [
             0.2,
             "#de77ae"
            ],
            [
             0.3,
             "#f1b6da"
            ],
            [
             0.4,
             "#fde0ef"
            ],
            [
             0.5,
             "#f7f7f7"
            ],
            [
             0.6,
             "#e6f5d0"
            ],
            [
             0.7,
             "#b8e186"
            ],
            [
             0.8,
             "#7fbc41"
            ],
            [
             0.9,
             "#4d9221"
            ],
            [
             1,
             "#276419"
            ]
           ],
           "sequential": [
            [
             0,
             "#0d0887"
            ],
            [
             0.1111111111111111,
             "#46039f"
            ],
            [
             0.2222222222222222,
             "#7201a8"
            ],
            [
             0.3333333333333333,
             "#9c179e"
            ],
            [
             0.4444444444444444,
             "#bd3786"
            ],
            [
             0.5555555555555556,
             "#d8576b"
            ],
            [
             0.6666666666666666,
             "#ed7953"
            ],
            [
             0.7777777777777778,
             "#fb9f3a"
            ],
            [
             0.8888888888888888,
             "#fdca26"
            ],
            [
             1,
             "#f0f921"
            ]
           ],
           "sequentialminus": [
            [
             0,
             "#0d0887"
            ],
            [
             0.1111111111111111,
             "#46039f"
            ],
            [
             0.2222222222222222,
             "#7201a8"
            ],
            [
             0.3333333333333333,
             "#9c179e"
            ],
            [
             0.4444444444444444,
             "#bd3786"
            ],
            [
             0.5555555555555556,
             "#d8576b"
            ],
            [
             0.6666666666666666,
             "#ed7953"
            ],
            [
             0.7777777777777778,
             "#fb9f3a"
            ],
            [
             0.8888888888888888,
             "#fdca26"
            ],
            [
             1,
             "#f0f921"
            ]
           ]
          },
          "colorway": [
           "#636efa",
           "#EF553B",
           "#00cc96",
           "#ab63fa",
           "#FFA15A",
           "#19d3f3",
           "#FF6692",
           "#B6E880",
           "#FF97FF",
           "#FECB52"
          ],
          "font": {
           "color": "#2a3f5f"
          },
          "geo": {
           "bgcolor": "white",
           "lakecolor": "white",
           "landcolor": "#E5ECF6",
           "showlakes": true,
           "showland": true,
           "subunitcolor": "white"
          },
          "hoverlabel": {
           "align": "left"
          },
          "hovermode": "closest",
          "mapbox": {
           "style": "light"
          },
          "paper_bgcolor": "white",
          "plot_bgcolor": "#E5ECF6",
          "polar": {
           "angularaxis": {
            "gridcolor": "white",
            "linecolor": "white",
            "ticks": ""
           },
           "bgcolor": "#E5ECF6",
           "radialaxis": {
            "gridcolor": "white",
            "linecolor": "white",
            "ticks": ""
           }
          },
          "scene": {
           "xaxis": {
            "backgroundcolor": "#E5ECF6",
            "gridcolor": "white",
            "gridwidth": 2,
            "linecolor": "white",
            "showbackground": true,
            "ticks": "",
            "zerolinecolor": "white"
           },
           "yaxis": {
            "backgroundcolor": "#E5ECF6",
            "gridcolor": "white",
            "gridwidth": 2,
            "linecolor": "white",
            "showbackground": true,
            "ticks": "",
            "zerolinecolor": "white"
           },
           "zaxis": {
            "backgroundcolor": "#E5ECF6",
            "gridcolor": "white",
            "gridwidth": 2,
            "linecolor": "white",
            "showbackground": true,
            "ticks": "",
            "zerolinecolor": "white"
           }
          },
          "shapedefaults": {
           "line": {
            "color": "#2a3f5f"
           }
          },
          "ternary": {
           "aaxis": {
            "gridcolor": "white",
            "linecolor": "white",
            "ticks": ""
           },
           "baxis": {
            "gridcolor": "white",
            "linecolor": "white",
            "ticks": ""
           },
           "bgcolor": "#E5ECF6",
           "caxis": {
            "gridcolor": "white",
            "linecolor": "white",
            "ticks": ""
           }
          },
          "title": {
           "x": 0.05
          },
          "xaxis": {
           "automargin": true,
           "gridcolor": "white",
           "linecolor": "white",
           "ticks": "",
           "title": {
            "standoff": 15
           },
           "zerolinecolor": "white",
           "zerolinewidth": 2
          },
          "yaxis": {
           "automargin": true,
           "gridcolor": "white",
           "linecolor": "white",
           "ticks": "",
           "title": {
            "standoff": 15
           },
           "zerolinecolor": "white",
           "zerolinewidth": 2
          }
         }
        },
        "title": {
         "text": "Total Number of Rent Stabilized Units in Chinatown, 2016-2022"
        },
        "xaxis": {
         "anchor": "y",
         "domain": [
          0,
          1
         ],
         "title": {
          "text": "index"
         }
        },
        "yaxis": {
         "anchor": "x",
         "domain": [
          0,
          1
         ],
         "title": {
          "text": "Total RSO Units"
         }
        }
       }
      },
      "text/html": [
       "<div>                            <div id=\"8c2a3f54-62ba-46bd-8913-151530751cc9\" class=\"plotly-graph-div\" style=\"height:525px; width:100%;\"></div>            <script type=\"text/javascript\">                require([\"plotly\"], function(Plotly) {                    window.PLOTLYENV=window.PLOTLYENV || {};                                    if (document.getElementById(\"8c2a3f54-62ba-46bd-8913-151530751cc9\")) {                    Plotly.newPlot(                        \"8c2a3f54-62ba-46bd-8913-151530751cc9\",                        [{\"hovertemplate\":\"index=%{x}<br>Total RSO Units=%{text}<extra></extra>\",\"legendgroup\":\"\",\"line\":{\"color\":\"#636efa\",\"dash\":\"solid\"},\"marker\":{\"symbol\":\"circle\"},\"mode\":\"markers+text+lines\",\"name\":\"\",\"orientation\":\"v\",\"showlegend\":false,\"text\":[1546.0,1544.0,1422.0,1418.0,1418.0,1358.0,1359.0],\"x\":[2016,2017,2018,2019,2020,2021,2022],\"xaxis\":\"x\",\"y\":[1546,1544,1422,1418,1418,1358,1359],\"yaxis\":\"y\",\"type\":\"scatter\",\"textposition\":\"top right\"}],                        {\"template\":{\"data\":{\"histogram2dcontour\":[{\"type\":\"histogram2dcontour\",\"colorbar\":{\"outlinewidth\":0,\"ticks\":\"\"},\"colorscale\":[[0.0,\"#0d0887\"],[0.1111111111111111,\"#46039f\"],[0.2222222222222222,\"#7201a8\"],[0.3333333333333333,\"#9c179e\"],[0.4444444444444444,\"#bd3786\"],[0.5555555555555556,\"#d8576b\"],[0.6666666666666666,\"#ed7953\"],[0.7777777777777778,\"#fb9f3a\"],[0.8888888888888888,\"#fdca26\"],[1.0,\"#f0f921\"]]}],\"choropleth\":[{\"type\":\"choropleth\",\"colorbar\":{\"outlinewidth\":0,\"ticks\":\"\"}}],\"histogram2d\":[{\"type\":\"histogram2d\",\"colorbar\":{\"outlinewidth\":0,\"ticks\":\"\"},\"colorscale\":[[0.0,\"#0d0887\"],[0.1111111111111111,\"#46039f\"],[0.2222222222222222,\"#7201a8\"],[0.3333333333333333,\"#9c179e\"],[0.4444444444444444,\"#bd3786\"],[0.5555555555555556,\"#d8576b\"],[0.6666666666666666,\"#ed7953\"],[0.7777777777777778,\"#fb9f3a\"],[0.8888888888888888,\"#fdca26\"],[1.0,\"#f0f921\"]]}],\"heatmap\":[{\"type\":\"heatmap\",\"colorbar\":{\"outlinewidth\":0,\"ticks\":\"\"},\"colorscale\":[[0.0,\"#0d0887\"],[0.1111111111111111,\"#46039f\"],[0.2222222222222222,\"#7201a8\"],[0.3333333333333333,\"#9c179e\"],[0.4444444444444444,\"#bd3786\"],[0.5555555555555556,\"#d8576b\"],[0.6666666666666666,\"#ed7953\"],[0.7777777777777778,\"#fb9f3a\"],[0.8888888888888888,\"#fdca26\"],[1.0,\"#f0f921\"]]}],\"heatmapgl\":[{\"type\":\"heatmapgl\",\"colorbar\":{\"outlinewidth\":0,\"ticks\":\"\"},\"colorscale\":[[0.0,\"#0d0887\"],[0.1111111111111111,\"#46039f\"],[0.2222222222222222,\"#7201a8\"],[0.3333333333333333,\"#9c179e\"],[0.4444444444444444,\"#bd3786\"],[0.5555555555555556,\"#d8576b\"],[0.6666666666666666,\"#ed7953\"],[0.7777777777777778,\"#fb9f3a\"],[0.8888888888888888,\"#fdca26\"],[1.0,\"#f0f921\"]]}],\"contourcarpet\":[{\"type\":\"contourcarpet\",\"colorbar\":{\"outlinewidth\":0,\"ticks\":\"\"}}],\"contour\":[{\"type\":\"contour\",\"colorbar\":{\"outlinewidth\":0,\"ticks\":\"\"},\"colorscale\":[[0.0,\"#0d0887\"],[0.1111111111111111,\"#46039f\"],[0.2222222222222222,\"#7201a8\"],[0.3333333333333333,\"#9c179e\"],[0.4444444444444444,\"#bd3786\"],[0.5555555555555556,\"#d8576b\"],[0.6666666666666666,\"#ed7953\"],[0.7777777777777778,\"#fb9f3a\"],[0.8888888888888888,\"#fdca26\"],[1.0,\"#f0f921\"]]}],\"surface\":[{\"type\":\"surface\",\"colorbar\":{\"outlinewidth\":0,\"ticks\":\"\"},\"colorscale\":[[0.0,\"#0d0887\"],[0.1111111111111111,\"#46039f\"],[0.2222222222222222,\"#7201a8\"],[0.3333333333333333,\"#9c179e\"],[0.4444444444444444,\"#bd3786\"],[0.5555555555555556,\"#d8576b\"],[0.6666666666666666,\"#ed7953\"],[0.7777777777777778,\"#fb9f3a\"],[0.8888888888888888,\"#fdca26\"],[1.0,\"#f0f921\"]]}],\"mesh3d\":[{\"type\":\"mesh3d\",\"colorbar\":{\"outlinewidth\":0,\"ticks\":\"\"}}],\"scatter\":[{\"fillpattern\":{\"fillmode\":\"overlay\",\"size\":10,\"solidity\":0.2},\"type\":\"scatter\"}],\"parcoords\":[{\"type\":\"parcoords\",\"line\":{\"colorbar\":{\"outlinewidth\":0,\"ticks\":\"\"}}}],\"scatterpolargl\":[{\"type\":\"scatterpolargl\",\"marker\":{\"colorbar\":{\"outlinewidth\":0,\"ticks\":\"\"}}}],\"bar\":[{\"error_x\":{\"color\":\"#2a3f5f\"},\"error_y\":{\"color\":\"#2a3f5f\"},\"marker\":{\"line\":{\"color\":\"#E5ECF6\",\"width\":0.5},\"pattern\":{\"fillmode\":\"overlay\",\"size\":10,\"solidity\":0.2}},\"type\":\"bar\"}],\"scattergeo\":[{\"type\":\"scattergeo\",\"marker\":{\"colorbar\":{\"outlinewidth\":0,\"ticks\":\"\"}}}],\"scatterpolar\":[{\"type\":\"scatterpolar\",\"marker\":{\"colorbar\":{\"outlinewidth\":0,\"ticks\":\"\"}}}],\"histogram\":[{\"marker\":{\"pattern\":{\"fillmode\":\"overlay\",\"size\":10,\"solidity\":0.2}},\"type\":\"histogram\"}],\"scattergl\":[{\"type\":\"scattergl\",\"marker\":{\"colorbar\":{\"outlinewidth\":0,\"ticks\":\"\"}}}],\"scatter3d\":[{\"type\":\"scatter3d\",\"line\":{\"colorbar\":{\"outlinewidth\":0,\"ticks\":\"\"}},\"marker\":{\"colorbar\":{\"outlinewidth\":0,\"ticks\":\"\"}}}],\"scattermapbox\":[{\"type\":\"scattermapbox\",\"marker\":{\"colorbar\":{\"outlinewidth\":0,\"ticks\":\"\"}}}],\"scatterternary\":[{\"type\":\"scatterternary\",\"marker\":{\"colorbar\":{\"outlinewidth\":0,\"ticks\":\"\"}}}],\"scattercarpet\":[{\"type\":\"scattercarpet\",\"marker\":{\"colorbar\":{\"outlinewidth\":0,\"ticks\":\"\"}}}],\"carpet\":[{\"aaxis\":{\"endlinecolor\":\"#2a3f5f\",\"gridcolor\":\"white\",\"linecolor\":\"white\",\"minorgridcolor\":\"white\",\"startlinecolor\":\"#2a3f5f\"},\"baxis\":{\"endlinecolor\":\"#2a3f5f\",\"gridcolor\":\"white\",\"linecolor\":\"white\",\"minorgridcolor\":\"white\",\"startlinecolor\":\"#2a3f5f\"},\"type\":\"carpet\"}],\"table\":[{\"cells\":{\"fill\":{\"color\":\"#EBF0F8\"},\"line\":{\"color\":\"white\"}},\"header\":{\"fill\":{\"color\":\"#C8D4E3\"},\"line\":{\"color\":\"white\"}},\"type\":\"table\"}],\"barpolar\":[{\"marker\":{\"line\":{\"color\":\"#E5ECF6\",\"width\":0.5},\"pattern\":{\"fillmode\":\"overlay\",\"size\":10,\"solidity\":0.2}},\"type\":\"barpolar\"}],\"pie\":[{\"automargin\":true,\"type\":\"pie\"}]},\"layout\":{\"autotypenumbers\":\"strict\",\"colorway\":[\"#636efa\",\"#EF553B\",\"#00cc96\",\"#ab63fa\",\"#FFA15A\",\"#19d3f3\",\"#FF6692\",\"#B6E880\",\"#FF97FF\",\"#FECB52\"],\"font\":{\"color\":\"#2a3f5f\"},\"hovermode\":\"closest\",\"hoverlabel\":{\"align\":\"left\"},\"paper_bgcolor\":\"white\",\"plot_bgcolor\":\"#E5ECF6\",\"polar\":{\"bgcolor\":\"#E5ECF6\",\"angularaxis\":{\"gridcolor\":\"white\",\"linecolor\":\"white\",\"ticks\":\"\"},\"radialaxis\":{\"gridcolor\":\"white\",\"linecolor\":\"white\",\"ticks\":\"\"}},\"ternary\":{\"bgcolor\":\"#E5ECF6\",\"aaxis\":{\"gridcolor\":\"white\",\"linecolor\":\"white\",\"ticks\":\"\"},\"baxis\":{\"gridcolor\":\"white\",\"linecolor\":\"white\",\"ticks\":\"\"},\"caxis\":{\"gridcolor\":\"white\",\"linecolor\":\"white\",\"ticks\":\"\"}},\"coloraxis\":{\"colorbar\":{\"outlinewidth\":0,\"ticks\":\"\"}},\"colorscale\":{\"sequential\":[[0.0,\"#0d0887\"],[0.1111111111111111,\"#46039f\"],[0.2222222222222222,\"#7201a8\"],[0.3333333333333333,\"#9c179e\"],[0.4444444444444444,\"#bd3786\"],[0.5555555555555556,\"#d8576b\"],[0.6666666666666666,\"#ed7953\"],[0.7777777777777778,\"#fb9f3a\"],[0.8888888888888888,\"#fdca26\"],[1.0,\"#f0f921\"]],\"sequentialminus\":[[0.0,\"#0d0887\"],[0.1111111111111111,\"#46039f\"],[0.2222222222222222,\"#7201a8\"],[0.3333333333333333,\"#9c179e\"],[0.4444444444444444,\"#bd3786\"],[0.5555555555555556,\"#d8576b\"],[0.6666666666666666,\"#ed7953\"],[0.7777777777777778,\"#fb9f3a\"],[0.8888888888888888,\"#fdca26\"],[1.0,\"#f0f921\"]],\"diverging\":[[0,\"#8e0152\"],[0.1,\"#c51b7d\"],[0.2,\"#de77ae\"],[0.3,\"#f1b6da\"],[0.4,\"#fde0ef\"],[0.5,\"#f7f7f7\"],[0.6,\"#e6f5d0\"],[0.7,\"#b8e186\"],[0.8,\"#7fbc41\"],[0.9,\"#4d9221\"],[1,\"#276419\"]]},\"xaxis\":{\"gridcolor\":\"white\",\"linecolor\":\"white\",\"ticks\":\"\",\"title\":{\"standoff\":15},\"zerolinecolor\":\"white\",\"automargin\":true,\"zerolinewidth\":2},\"yaxis\":{\"gridcolor\":\"white\",\"linecolor\":\"white\",\"ticks\":\"\",\"title\":{\"standoff\":15},\"zerolinecolor\":\"white\",\"automargin\":true,\"zerolinewidth\":2},\"scene\":{\"xaxis\":{\"backgroundcolor\":\"#E5ECF6\",\"gridcolor\":\"white\",\"linecolor\":\"white\",\"showbackground\":true,\"ticks\":\"\",\"zerolinecolor\":\"white\",\"gridwidth\":2},\"yaxis\":{\"backgroundcolor\":\"#E5ECF6\",\"gridcolor\":\"white\",\"linecolor\":\"white\",\"showbackground\":true,\"ticks\":\"\",\"zerolinecolor\":\"white\",\"gridwidth\":2},\"zaxis\":{\"backgroundcolor\":\"#E5ECF6\",\"gridcolor\":\"white\",\"linecolor\":\"white\",\"showbackground\":true,\"ticks\":\"\",\"zerolinecolor\":\"white\",\"gridwidth\":2}},\"shapedefaults\":{\"line\":{\"color\":\"#2a3f5f\"}},\"annotationdefaults\":{\"arrowcolor\":\"#2a3f5f\",\"arrowhead\":0,\"arrowwidth\":1},\"geo\":{\"bgcolor\":\"white\",\"landcolor\":\"#E5ECF6\",\"subunitcolor\":\"white\",\"showland\":true,\"showlakes\":true,\"lakecolor\":\"white\"},\"title\":{\"x\":0.05},\"mapbox\":{\"style\":\"light\"}}},\"xaxis\":{\"anchor\":\"y\",\"domain\":[0.0,1.0],\"title\":{\"text\":\"index\"}},\"yaxis\":{\"anchor\":\"x\",\"domain\":[0.0,1.0],\"title\":{\"text\":\"Total RSO Units\"}},\"legend\":{\"tracegroupgap\":0},\"title\":{\"text\":\"Total Number of Rent Stabilized Units in Chinatown, 2016-2022\"}},                        {\"responsive\": true}                    ).then(function(){\n",
       "                            \n",
       "var gd = document.getElementById('8c2a3f54-62ba-46bd-8913-151530751cc9');\n",
       "var x = new MutationObserver(function (mutations, observer) {{\n",
       "        var display = window.getComputedStyle(gd).display;\n",
       "        if (!display || display === 'none') {{\n",
       "            console.log([gd, 'removed!']);\n",
       "            Plotly.purge(gd);\n",
       "            observer.disconnect();\n",
       "        }}\n",
       "}});\n",
       "\n",
       "// Listen for the removal of the full notebook cells\n",
       "var notebookContainer = gd.closest('#notebook-container');\n",
       "if (notebookContainer) {{\n",
       "    x.observe(notebookContainer, {childList: true});\n",
       "}}\n",
       "\n",
       "// Listen for the clearing of the current output cell\n",
       "var outputEl = gd.closest('.output');\n",
       "if (outputEl) {{\n",
       "    x.observe(outputEl, {childList: true});\n",
       "}}\n",
       "\n",
       "                        })                };                });            </script>        </div>"
      ]
     },
     "metadata": {},
     "output_type": "display_data"
    }
   ],
   "source": [
    "fig = px.line(rso_2016_2022_df, x=rso_2016_2022_df.index, y=\"Total RSO Units\",text=\"Total RSO Units\",title=\"Total Number of Rent Stabilized Units in Chinatown, 2016-2022\")\n",
    "fig.update_traces(textposition=\"top right\")\n",
    "fig.show()\n",
    "fig.write_image(\"Chinatown_RSO.pdf\")"
   ]
  },
  {
   "cell_type": "code",
   "execution_count": null,
   "id": "671076ef",
   "metadata": {},
   "outputs": [],
   "source": []
  }
 ],
 "metadata": {
  "kernelspec": {
   "display_name": "Python 3 (ipykernel)",
   "language": "python",
   "name": "python3"
  },
  "language_info": {
   "codemirror_mode": {
    "name": "ipython",
    "version": 3
   },
   "file_extension": ".py",
   "mimetype": "text/x-python",
   "name": "python",
   "nbconvert_exporter": "python",
   "pygments_lexer": "ipython3",
   "version": "3.9.13"
  }
 },
 "nbformat": 4,
 "nbformat_minor": 5
}
