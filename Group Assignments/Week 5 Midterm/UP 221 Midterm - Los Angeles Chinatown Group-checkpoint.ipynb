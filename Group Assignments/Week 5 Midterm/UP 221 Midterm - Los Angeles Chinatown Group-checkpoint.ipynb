{
 "cells": [
  {
   "cell_type": "markdown",
   "id": "1bd0e497-5388-4ab0-9e1a-23a800cb1187",
   "metadata": {},
   "source": [
    "# Los Angeles Chinatown Group Midterm"
   ]
  },
  {
   "cell_type": "markdown",
   "id": "4e971819-8650-4faa-acc2-d9607ff9248e",
   "metadata": {},
   "source": [
    "**Group Members:**\n",
    "- Alyssa Suzukawa\n",
    "- Brian Kohaya\n",
    "- Clara Fuchshuber\n",
    "- Dom Ong\n",
    "- Jiaqi Li"
   ]
  },
  {
   "cell_type": "markdown",
   "id": "3fe3635e-f125-4717-a152-9d636c9c80dc",
   "metadata": {},
   "source": [
    "## **Introduction: Los Angeles Chinatown**"
   ]
  },
  {
   "cell_type": "markdown",
   "id": "8ccfd22c-ccb4-4047-a563-934cd4bddead",
   "metadata": {},
   "source": [
    "<div class=\"alert alert-info\">\n",
    "Example markdown for your section! Copy + paste this cell to make a callout!"
   ]
  },
  {
   "cell_type": "markdown",
   "id": "b1718d61-cb3a-461f-bba1-0e9fe3b6f0e2",
   "metadata": {},
   "source": [
    "<div class=\"alert alert-info\">\n",
    "Start by importing modules to gain access to their functions for data analysis."
   ]
  },
  {
   "cell_type": "code",
   "execution_count": 3,
   "id": "d49f77dd-fa22-41d1-8369-8b2e3f388eef",
   "metadata": {},
   "outputs": [],
   "source": [
    "import pandas as pd\n",
    "import geopandas as gpd\n",
    "import numpy as np\n",
    "import folium\n",
    "import plotly.express as px\n",
    "import plotly.io as pio"
   ]
  },
  {
   "cell_type": "markdown",
   "id": "1cc7eef3-64d7-4d40-a2ee-eedd07294aba",
   "metadata": {},
   "source": [
    "## **Physical Changes in Chinatown**"
   ]
  },
  {
   "cell_type": "markdown",
   "id": "ec0ae464-4c29-4bcc-84b3-e33393b70c3c",
   "metadata": {},
   "source": [
    "### Parcel Use Changes"
   ]
  },
  {
   "cell_type": "code",
   "execution_count": null,
   "id": "58db97bb-45e3-4718-90c1-6fea2b8c2973",
   "metadata": {},
   "outputs": [],
   "source": []
  },
  {
   "cell_type": "markdown",
   "id": "f3a1934d-1012-471b-85d7-953202ea3b82",
   "metadata": {},
   "source": [
    "### Parcel Value Changes"
   ]
  },
  {
   "cell_type": "code",
   "execution_count": null,
   "id": "1b15d257-73cb-4f17-8f13-494af9d08329",
   "metadata": {},
   "outputs": [],
   "source": []
  },
  {
   "cell_type": "markdown",
   "id": "916bcc07-8d51-4185-b214-485228e59201",
   "metadata": {},
   "source": [
    "## **Demographic Changes in Chinatown**"
   ]
  },
  {
   "cell_type": "markdown",
   "id": "ab87874f-4ee6-481c-b194-087cf0afc713",
   "metadata": {},
   "source": [
    "### Median Household Income Changes"
   ]
  },
  {
   "cell_type": "code",
   "execution_count": null,
   "id": "1d3f501d-a094-4f92-8853-e39f5f9dd810",
   "metadata": {},
   "outputs": [],
   "source": []
  },
  {
   "cell_type": "markdown",
   "id": "d0edd0ed-c581-41c0-87dc-a61431f96d01",
   "metadata": {},
   "source": [
    "### Rent Changes"
   ]
  },
  {
   "cell_type": "code",
   "execution_count": null,
   "id": "e97d0956-39f5-4e0b-bbd6-6103dd392e06",
   "metadata": {},
   "outputs": [],
   "source": []
  },
  {
   "cell_type": "markdown",
   "id": "3941cada-c67d-4591-b74a-21d556c4e384",
   "metadata": {},
   "source": [
    "## **Conclusion**"
   ]
  },
  {
   "cell_type": "code",
   "execution_count": null,
   "id": "36eea2fe-8e2f-4814-996e-2372402e9f70",
   "metadata": {},
   "outputs": [],
   "source": []
  }
 ],
 "metadata": {
  "kernelspec": {
   "display_name": "Python 3 (ipykernel)",
   "language": "python",
   "name": "python3"
  },
  "language_info": {
   "codemirror_mode": {
    "name": "ipython",
    "version": 3
   },
   "file_extension": ".py",
   "mimetype": "text/x-python",
   "name": "python",
   "nbconvert_exporter": "python",
   "pygments_lexer": "ipython3",
   "version": "3.10.8"
  }
 },
 "nbformat": 4,
 "nbformat_minor": 5
}
